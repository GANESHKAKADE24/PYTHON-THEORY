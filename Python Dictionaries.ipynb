{
 "cells": [
  {
   "cell_type": "markdown",
   "id": "4eaada57",
   "metadata": {},
   "source": [
    "# Handling missing keys in Python dictionaries"
   ]
  },
  {
   "cell_type": "code",
   "execution_count": 2,
   "id": "0e2d5862",
   "metadata": {},
   "outputs": [
    {
     "name": "stdout",
     "output_type": "stream",
     "text": [
      "The value associated with 'c' is : \n"
     ]
    },
    {
     "ename": "KeyError",
     "evalue": "'c'",
     "output_type": "error",
     "traceback": [
      "\u001b[1;31m---------------------------------------------------------------------------\u001b[0m",
      "\u001b[1;31mKeyError\u001b[0m                                  Traceback (most recent call last)",
      "Input \u001b[1;32mIn [2]\u001b[0m, in \u001b[0;36m<cell line: 5>\u001b[1;34m()\u001b[0m\n\u001b[0;32m      3\u001b[0m \u001b[38;5;66;03m# trying to output value of absent key\u001b[39;00m\n\u001b[0;32m      4\u001b[0m \u001b[38;5;28mprint\u001b[39m (\u001b[38;5;124m\"\u001b[39m\u001b[38;5;124mThe value associated with \u001b[39m\u001b[38;5;124m'\u001b[39m\u001b[38;5;124mc\u001b[39m\u001b[38;5;124m'\u001b[39m\u001b[38;5;124m is : \u001b[39m\u001b[38;5;124m\"\u001b[39m)\n\u001b[1;32m----> 5\u001b[0m \u001b[38;5;28mprint\u001b[39m (\u001b[43md\u001b[49m\u001b[43m[\u001b[49m\u001b[38;5;124;43m'\u001b[39;49m\u001b[38;5;124;43mc\u001b[39;49m\u001b[38;5;124;43m'\u001b[39;49m\u001b[43m]\u001b[49m)\n",
      "\u001b[1;31mKeyError\u001b[0m: 'c'"
     ]
    }
   ],
   "source": [
    "\n",
    "d = { 'a' : 1 , 'b' : 2 }\n",
    " \n",
    "# trying to output value of absent key\n",
    "print (\"The value associated with 'c' is : \")\n",
    "print (d['c'])"
   ]
  },
  {
   "cell_type": "markdown",
   "id": "936388aa",
   "metadata": {},
   "source": [
    "## Method 1 : Using get()"
   ]
  },
  {
   "cell_type": "code",
   "execution_count": 5,
   "id": "561c0aee",
   "metadata": {},
   "outputs": [
    {
     "data": {
      "text/plain": [
       "'Not found'"
      ]
     },
     "execution_count": 5,
     "metadata": {},
     "output_type": "execute_result"
    }
   ],
   "source": [
    "d.get('c','Not found')"
   ]
  },
  {
   "cell_type": "markdown",
   "id": "1e49cc31",
   "metadata": {},
   "source": [
    "## method-2-Using setdefault()"
   ]
  },
  {
   "cell_type": "markdown",
   "id": "4fc8ae33",
   "metadata": {},
   "source": [
    "setdefault(key, def_value) works in a similar way as to get(), but the difference is that each time a key is absent, a new key is created with the def_value associated with the key passed in arguments."
   ]
  },
  {
   "cell_type": "code",
   "execution_count": 8,
   "id": "16bfd0f6",
   "metadata": {},
   "outputs": [
    {
     "name": "stdout",
     "output_type": "stream",
     "text": [
      "0091\n",
      "Not Present\n"
     ]
    }
   ],
   "source": [
    "\n",
    "country_code = {'India' : '0091',\n",
    "                'Australia' : '0025',\n",
    "                'Nepal' : '00977'}\n",
    " \n",
    "# Set a default value for Japan\n",
    "country_code.setdefault('Japan', 'Not Present')\n",
    " \n",
    "# search dictionary for country code of India\n",
    "print(country_code['India'])\n",
    " \n",
    "# search dictionary for country code of Japan\n",
    "print(country_code['Japan'])"
   ]
  },
  {
   "cell_type": "markdown",
   "id": "b4d4db2a",
   "metadata": {},
   "source": [
    "## Method 3: Using defaultdict"
   ]
  },
  {
   "cell_type": "markdown",
   "id": "77eec7db",
   "metadata": {},
   "source": [
    "defaultdict” is a container that is defined in a module named “collections“. It takes a function(default factory) as its argument. By default, the default factory is set to “int” i.e 0. If a key is not present in the defaultdict, the default factory value is returned and displayed. It has advantages over get() or setdefault(). "
   ]
  },
  {
   "cell_type": "code",
   "execution_count": 9,
   "id": "3c19c7ff",
   "metadata": {},
   "outputs": [
    {
     "name": "stdout",
     "output_type": "stream",
     "text": [
      "The value associated with 'a' is : 1\n",
      "The value associated with 'c' is : Key Not found\n"
     ]
    }
   ],
   "source": [
    "import collections\n",
    " \n",
    "# declaring defaultdict\n",
    "# sets default value 'Key Not found' to absent keys\n",
    "defd = collections.defaultdict(lambda : 'Key Not found')\n",
    " \n",
    "# initializing values\n",
    "defd['a'] = 1\n",
    " \n",
    "# initializing values\n",
    "defd['b'] = 2\n",
    " \n",
    "# printing value\n",
    "print (\"The value associated with 'a' is : \",end=\"\")\n",
    "print (defd['a'])\n",
    " \n",
    "# printing value associated with 'c'\n",
    "print (\"The value associated with 'c' is : \",end=\"\")\n",
    "print (defd['c'])"
   ]
  },
  {
   "cell_type": "code",
   "execution_count": null,
   "id": "ce70c489",
   "metadata": {},
   "outputs": [],
   "source": []
  }
 ],
 "metadata": {
  "kernelspec": {
   "display_name": "Python 3 (ipykernel)",
   "language": "python",
   "name": "python3"
  },
  "language_info": {
   "codemirror_mode": {
    "name": "ipython",
    "version": 3
   },
   "file_extension": ".py",
   "mimetype": "text/x-python",
   "name": "python",
   "nbconvert_exporter": "python",
   "pygments_lexer": "ipython3",
   "version": "3.9.12"
  }
 },
 "nbformat": 4,
 "nbformat_minor": 5
}
